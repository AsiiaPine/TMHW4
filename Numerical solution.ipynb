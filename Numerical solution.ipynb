{
 "cells": [
  {
   "cell_type": "code",
   "execution_count": 3,
   "outputs": [],
   "source": [
    "import sympy as sp\n",
    "import numpy as np"
   ],
   "metadata": {
    "collapsed": false,
    "pycharm": {
     "name": "#%%\n"
    }
   }
  },
  {
   "cell_type": "markdown",
   "source": [
    "# Task 1\n",
    "Numerical solution"
   ],
   "metadata": {
    "collapsed": false,
    "pycharm": {
     "name": "#%% md\n"
    }
   }
  },
  {
   "cell_type": "code",
   "execution_count": 44,
   "outputs": [],
   "source": [
    "R_a_s, R_b_x_s, R_b_y_s, R_c_x_s, R_c_y_s, R_d_s, R_e_x_s, R_e_y_s, R_f_s = sp.symbols(\n",
    "    'R_a_s, R_b_x_s, R_b_y_s, R_c_x_s, R_c_y_s, R_d_s, R_e_x_s, R_e_y_s, R_f_s')\n",
    "\n",
    "# Angles\n",
    "alpha = 45 / 180 * np.pi\n",
    "beta = 60 / 180 * np.pi\n",
    "\n",
    "# Forces\n",
    "P1 = 12\n",
    "P2 = 18\n",
    "M = 36\n",
    "q = 1.4\n",
    "\n",
    "# Distances\n",
    "AG = GB = DE = KF = 2\n",
    "BC = 3\n",
    "CD = EK = 2.5\n",
    "AB = AG + GB\n",
    "AC = AG + GB + BC\n",
    "CE = CD + DE\n",
    "EF = EK + KF\n",
    "\n",
    "R_c_x_s_p = R_c_x_s\n",
    "R_c_y_s_p = R_c_y_s\n",
    "R_e_x_s_p = R_e_x_s\n",
    "R_e_y_s_p = R_e_y_s\n",
    "\n",
    "# AC:\n",
    "ac_eq_x = R_a_s * sp.cos(alpha) + R_b_x_s - R_c_x_s_p\n",
    "ac_eq_y = R_a_s * sp.sin(alpha) + R_b_y_s + R_c_y_s_p - q * BC - P1\n",
    "ac_eq_Ma = -P1 * AG + R_b_y_s * AB - q * BC * (AB + BC / 2) + R_c_y_s_p * AC\n",
    "\n",
    "# CE:\n",
    "ce_eq_x = R_c_x_s - R_e_x_s_p\n",
    "ce_eq_y = -R_c_y_s + R_e_y_s_p + R_d_s - q * CE\n",
    "ce_eq_Me = -R_d_s * DE + q * CE * CE / 2 + R_c_y_s * CE\n",
    "\n",
    "# EF:\n",
    "ef_eq_x = R_e_x_s - P2 * sp.cos(beta)\n",
    "ef_eq_y = -R_e_y_s - P2 * sp.sin(beta) + R_f_s\n",
    "ef_eq_Me = -P2 * sp.sin(beta) * EK - M + R_f_s * EF\n",
    "\n",
    "\n",
    "solution = sp.linsolve([ac_eq_x, ac_eq_y, ac_eq_Ma, ce_eq_x, ce_eq_y, ce_eq_Me, ef_eq_x, ef_eq_y, ef_eq_Me],\n",
    "                       [R_a_s, R_b_x_s, R_b_y_s, R_c_x_s, R_c_y_s, R_d_s, R_e_x_s, R_e_y_s, R_f_s])\n",
    "\n",
    "R_a, R_b_x, R_b_y, R_c_x, R_c_y, R_d, R_e_x, R_e_y, R_f = [solution.args[0][0], solution.args[0][1],\n",
    "                                                           solution.args[0][2], solution.args[0][3],\n",
    "                                                           solution.args[0][4], solution.args[0][5],\n",
    "                                                           solution.args[0][6], solution.args[0][7],\n",
    "                                                           solution.args[0][8]]"
   ],
   "metadata": {
    "collapsed": false,
    "pycharm": {
     "name": "#%%\n"
    }
   }
  },
  {
   "cell_type": "code",
   "execution_count": 45,
   "outputs": [
    {
     "name": "stdout",
     "output_type": "stream",
     "text": [
      "\"R_a: 4.68022938856843,\n",
      " R_b: 5.69057806183469, 14.3780154776143,\n",
      " R_c: 9.00000000000000, -1.48743741577959,\n",
      " R_d: 3.74076581449592,\n",
      " R_e: 9.00000000000000, 1.07179676972449,\n",
      " R_f: 16.6602540378444\"\n"
     ]
    }
   ],
   "source": [
    "print(\n",
    "    f'\"R_a: {R_a},\\n R_b: {R_b_x}, {R_b_y},\\n R_c: {R_c_x}, {R_c_y},\\n R_d: {R_d},\\n R_e: {R_e_x}, {R_e_y},\\n R_f: {R_f}\"')"
   ],
   "metadata": {
    "collapsed": false,
    "pycharm": {
     "name": "#%%\n"
    }
   }
  },
  {
   "cell_type": "markdown",
   "source": [
    "# Second task\n",
    "\n",
    "Numerical solution"
   ],
   "metadata": {
    "collapsed": false,
    "pycharm": {
     "name": "#%% md\n"
    }
   }
  },
  {
   "cell_type": "code",
   "execution_count": 30,
   "outputs": [],
   "source": [
    "R_1_s, R_2_s, R_3_s, R_4_s, R_5_s, R_6_s = sp.symbols('R_1, R_2, R_3, R_4, R_5, R_6')\n",
    "\n",
    "a = 4\n",
    "b = 4.5\n",
    "c = 3.5\n",
    "G = 18\n",
    "P = 30\n",
    "\n",
    "alpha = sp.atan(c / b)\n",
    "beta = sp.atan(c / a)\n",
    "\n",
    "# forces projections on axes\n",
    "x_eq = -R_2_s * sp.cos(alpha) + P\n",
    "y_eq = -R_6_s * sp.cos(beta) - R_4_s * sp.cos(beta)\n",
    "z_eq = R_6_s * sp.sin(beta) + R_4_s * sp.sin(beta) + R_2_s * sp.sin(alpha) + R_1_s + R_5_s + R_3_s - G\n",
    "\n",
    "# Torque for point A around different axes\n",
    "Ma_x_eq = R_5_s * a - G * a / 2\n",
    "Ma_y_eq = -(R_5_s * b + R_3_s * b + R_4_s * b * sp.sin(beta)) + G * b / 2\n",
    "Ma_z_eq = -R_4_s * sp.cos(beta)*b - P * a\n",
    "\n",
    "equations = [x_eq, y_eq, z_eq, Ma_x_eq, Ma_y_eq, Ma_z_eq]\n",
    "\n",
    "variables = [R_1_s, R_2_s, R_3_s, R_4_s, R_5_s, R_6_s]\n",
    "\n",
    "solution_for_2nd = sp.linsolve(equations, variables)"
   ],
   "metadata": {
    "collapsed": false,
    "pycharm": {
     "name": "#%%\n"
    }
   }
  },
  {
   "cell_type": "code",
   "execution_count": 31,
   "outputs": [
    {
     "name": "stdout",
     "output_type": "stream",
     "text": [
      "{(-37.6666666666667, 38.0058475033046, 23.3333333333333, -35.4338193757822, 9.0, 35.4338193757822)}\n"
     ]
    }
   ],
   "source": [
    "print(solution_for_2nd)"
   ],
   "metadata": {
    "collapsed": false,
    "pycharm": {
     "name": "#%%\n"
    }
   }
  }
 ],
 "metadata": {
  "kernelspec": {
   "display_name": "Python 3",
   "language": "python",
   "name": "python3"
  },
  "language_info": {
   "codemirror_mode": {
    "name": "ipython",
    "version": 2
   },
   "file_extension": ".py",
   "mimetype": "text/x-python",
   "name": "python",
   "nbconvert_exporter": "python",
   "pygments_lexer": "ipython2",
   "version": "2.7.6"
  }
 },
 "nbformat": 4,
 "nbformat_minor": 0
}
